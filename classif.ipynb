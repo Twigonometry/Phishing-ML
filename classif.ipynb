{
 "cells": [
  {
   "cell_type": "code",
   "execution_count": 1,
   "metadata": {},
   "outputs": [],
   "source": [
    "import pandas as pd\n",
    "import numpy as np"
   ]
  },
  {
   "cell_type": "code",
   "execution_count": 2,
   "metadata": {},
   "outputs": [
    {
     "data": {
      "text/html": [
       "<div>\n",
       "<style scoped>\n",
       "    .dataframe tbody tr th:only-of-type {\n",
       "        vertical-align: middle;\n",
       "    }\n",
       "\n",
       "    .dataframe tbody tr th {\n",
       "        vertical-align: top;\n",
       "    }\n",
       "\n",
       "    .dataframe thead th {\n",
       "        text-align: right;\n",
       "    }\n",
       "</style>\n",
       "<table border=\"1\" class=\"dataframe\">\n",
       "  <thead>\n",
       "    <tr style=\"text-align: right;\">\n",
       "      <th></th>\n",
       "      <th>Unnamed: 0</th>\n",
       "      <th>Body</th>\n",
       "      <th>Label</th>\n",
       "    </tr>\n",
       "  </thead>\n",
       "  <tbody>\n",
       "    <tr>\n",
       "      <th>0</th>\n",
       "      <td>0</td>\n",
       "      <td>\\nSave up to 70% on Life Insurance.\\nWhy Spend...</td>\n",
       "      <td>1</td>\n",
       "    </tr>\n",
       "    <tr>\n",
       "      <th>1</th>\n",
       "      <td>1</td>\n",
       "      <td>1) Fight The Risk of Cancer!\\nhttp://www.adcli...</td>\n",
       "      <td>1</td>\n",
       "    </tr>\n",
       "    <tr>\n",
       "      <th>2</th>\n",
       "      <td>2</td>\n",
       "      <td>1) Fight The Risk of Cancer!\\nhttp://www.adcli...</td>\n",
       "      <td>1</td>\n",
       "    </tr>\n",
       "    <tr>\n",
       "      <th>3</th>\n",
       "      <td>3</td>\n",
       "      <td>##############################################...</td>\n",
       "      <td>1</td>\n",
       "    </tr>\n",
       "    <tr>\n",
       "      <th>4</th>\n",
       "      <td>4</td>\n",
       "      <td>I thought you might like these:\\n1) Slim Down ...</td>\n",
       "      <td>1</td>\n",
       "    </tr>\n",
       "    <tr>\n",
       "      <th>...</th>\n",
       "      <td>...</td>\n",
       "      <td>...</td>\n",
       "      <td>...</td>\n",
       "    </tr>\n",
       "    <tr>\n",
       "      <th>6041</th>\n",
       "      <td>6041</td>\n",
       "      <td>empty</td>\n",
       "      <td>0</td>\n",
       "    </tr>\n",
       "    <tr>\n",
       "      <th>6042</th>\n",
       "      <td>6042</td>\n",
       "      <td>___           ___           ...</td>\n",
       "      <td>0</td>\n",
       "    </tr>\n",
       "    <tr>\n",
       "      <th>6043</th>\n",
       "      <td>6043</td>\n",
       "      <td>IN THIS ISSUE:01. Readers write\\n02. Extension...</td>\n",
       "      <td>0</td>\n",
       "    </tr>\n",
       "    <tr>\n",
       "      <th>6044</th>\n",
       "      <td>6044</td>\n",
       "      <td>empty</td>\n",
       "      <td>0</td>\n",
       "    </tr>\n",
       "    <tr>\n",
       "      <th>6045</th>\n",
       "      <td>6045</td>\n",
       "      <td>empty</td>\n",
       "      <td>0</td>\n",
       "    </tr>\n",
       "  </tbody>\n",
       "</table>\n",
       "<p>6046 rows × 3 columns</p>\n",
       "</div>"
      ],
      "text/plain": [
       "      Unnamed: 0                                               Body  Label\n",
       "0              0  \\nSave up to 70% on Life Insurance.\\nWhy Spend...      1\n",
       "1              1  1) Fight The Risk of Cancer!\\nhttp://www.adcli...      1\n",
       "2              2  1) Fight The Risk of Cancer!\\nhttp://www.adcli...      1\n",
       "3              3  ##############################################...      1\n",
       "4              4  I thought you might like these:\\n1) Slim Down ...      1\n",
       "...          ...                                                ...    ...\n",
       "6041        6041                                              empty      0\n",
       "6042        6042                    ___           ___           ...      0\n",
       "6043        6043  IN THIS ISSUE:01. Readers write\\n02. Extension...      0\n",
       "6044        6044                                              empty      0\n",
       "6045        6045                                              empty      0\n",
       "\n",
       "[6046 rows x 3 columns]"
      ]
     },
     "execution_count": 2,
     "metadata": {},
     "output_type": "execute_result"
    }
   ],
   "source": [
    "dfSA = pd.read_csv('./completeSpamAssassin.csv')\n",
    "dfSA"
   ]
  },
  {
   "cell_type": "code",
   "execution_count": 3,
   "metadata": {},
   "outputs": [
    {
     "data": {
      "text/plain": [
       "<bound method NDFrame.describe of       Unnamed: 0                                               Body  Label\n",
       "0              0  \\nSave up to 70% on Life Insurance.\\nWhy Spend...      1\n",
       "1              1  1) Fight The Risk of Cancer!\\nhttp://www.adcli...      1\n",
       "2              2  1) Fight The Risk of Cancer!\\nhttp://www.adcli...      1\n",
       "3              3  ##############################################...      1\n",
       "4              4  I thought you might like these:\\n1) Slim Down ...      1\n",
       "...          ...                                                ...    ...\n",
       "6041        6041                                              empty      0\n",
       "6042        6042                    ___           ___           ...      0\n",
       "6043        6043  IN THIS ISSUE:01. Readers write\\n02. Extension...      0\n",
       "6044        6044                                              empty      0\n",
       "6045        6045                                              empty      0\n",
       "\n",
       "[6046 rows x 3 columns]>"
      ]
     },
     "execution_count": 3,
     "metadata": {},
     "output_type": "execute_result"
    }
   ],
   "source": [
    "dfSA.describe"
   ]
  },
  {
   "cell_type": "code",
   "execution_count": 4,
   "metadata": {},
   "outputs": [
    {
     "data": {
      "text/plain": [
       "<bound method NDFrame.describe of       Unnamed: 0.1  Unnamed: 0  \\\n",
       "0             2469        2469   \n",
       "1             5063        5063   \n",
       "2            12564       12564   \n",
       "3             2796        2796   \n",
       "4             1468        1468   \n",
       "...            ...         ...   \n",
       "9995         26222       26222   \n",
       "9996         18630       18630   \n",
       "9997         18451       18451   \n",
       "9998         21955       21955   \n",
       "9999         32062       32062   \n",
       "\n",
       "                                                   Body  Label  \n",
       "0     Subject: stock promo mover : cwtd\\n * * * urge...      1  \n",
       "1     Subject: are you listed in major search engine...      1  \n",
       "2     Subject: important information thu , 30 jun 20...      1  \n",
       "3     Subject: = ? utf - 8 ? q ? bask your life with...      1  \n",
       "4     Subject: \" bidstogo \" is places to go , things...      1  \n",
       "...                                                 ...    ...  \n",
       "9995  Subject: monday 22 nd oct\\n louise ,\\n do you ...      0  \n",
       "9996  Subject: missing bloomberg deals\\n stephanie -...      0  \n",
       "9997  Subject: eops salary survey questionnaire\\n we...      0  \n",
       "9998  Subject: q 3 comparison\\n hi louise ,\\n i have...      0  \n",
       "9999  Subject: confidential folder to safely pass in...      0  \n",
       "\n",
       "[10000 rows x 4 columns]>"
      ]
     },
     "execution_count": 4,
     "metadata": {},
     "output_type": "execute_result"
    }
   ],
   "source": [
    "dfEnron = pd.read_csv('./enronSpamSubset.csv')\n",
    "dfEnron.describe"
   ]
  },
  {
   "cell_type": "code",
   "execution_count": 5,
   "metadata": {},
   "outputs": [
    {
     "data": {
      "text/plain": [
       "<bound method NDFrame.describe of       Unnamed: 0                                               Body  Label\n",
       "0              0  Subject: great part-time or summer job !\\n \\n ...      1\n",
       "1              1  Subject: auto insurance rates too high ?\\n \\n ...      1\n",
       "2              2  Subject: do want the best and economical hunti...      1\n",
       "3              3  Subject: email 57 million people for $ 99\\n \\n...      1\n",
       "4              4  Subject: do n't miss these !\\n \\n attention ! ...      1\n",
       "...          ...                                                ...    ...\n",
       "2600        2600  Subject: computationally - intensive methods i...      0\n",
       "2601        2601  Subject: books : a survey of american linguist...      0\n",
       "2602        2602  Subject: wecol ' 98 - - western conference on ...      0\n",
       "2603        2603  Subject: euralex ' 98 - revised programme\\n \\n...      0\n",
       "2604        2604  ,Body,Label\\n 0,\"Subject: great part-time or s...      0\n",
       "\n",
       "[2605 rows x 3 columns]>"
      ]
     },
     "execution_count": 5,
     "metadata": {},
     "output_type": "execute_result"
    }
   ],
   "source": [
    "dfLing = pd.read_csv('./lingSpam.csv')\n",
    "dfLing.describe"
   ]
  },
  {
   "cell_type": "code",
   "execution_count": 8,
   "metadata": {},
   "outputs": [
    {
     "data": {
      "text/html": [
       "<div>\n",
       "<style scoped>\n",
       "    .dataframe tbody tr th:only-of-type {\n",
       "        vertical-align: middle;\n",
       "    }\n",
       "\n",
       "    .dataframe tbody tr th {\n",
       "        vertical-align: top;\n",
       "    }\n",
       "\n",
       "    .dataframe thead th {\n",
       "        text-align: right;\n",
       "    }\n",
       "</style>\n",
       "<table border=\"1\" class=\"dataframe\">\n",
       "  <thead>\n",
       "    <tr style=\"text-align: right;\">\n",
       "      <th></th>\n",
       "      <th>Unnamed: 0</th>\n",
       "      <th>Body</th>\n",
       "      <th>Label</th>\n",
       "    </tr>\n",
       "  </thead>\n",
       "  <tbody>\n",
       "    <tr>\n",
       "      <th>0</th>\n",
       "      <td>0</td>\n",
       "      <td>Subject: great part-time or summer job !\\n \\n ...</td>\n",
       "      <td>1</td>\n",
       "    </tr>\n",
       "    <tr>\n",
       "      <th>1</th>\n",
       "      <td>1</td>\n",
       "      <td>Subject: auto insurance rates too high ?\\n \\n ...</td>\n",
       "      <td>1</td>\n",
       "    </tr>\n",
       "    <tr>\n",
       "      <th>2</th>\n",
       "      <td>2</td>\n",
       "      <td>Subject: do want the best and economical hunti...</td>\n",
       "      <td>1</td>\n",
       "    </tr>\n",
       "    <tr>\n",
       "      <th>3</th>\n",
       "      <td>3</td>\n",
       "      <td>Subject: email 57 million people for $ 99\\n \\n...</td>\n",
       "      <td>1</td>\n",
       "    </tr>\n",
       "    <tr>\n",
       "      <th>4</th>\n",
       "      <td>4</td>\n",
       "      <td>Subject: do n't miss these !\\n \\n attention ! ...</td>\n",
       "      <td>1</td>\n",
       "    </tr>\n",
       "  </tbody>\n",
       "</table>\n",
       "</div>"
      ],
      "text/plain": [
       "   Unnamed: 0                                               Body  Label\n",
       "0           0  Subject: great part-time or summer job !\\n \\n ...      1\n",
       "1           1  Subject: auto insurance rates too high ?\\n \\n ...      1\n",
       "2           2  Subject: do want the best and economical hunti...      1\n",
       "3           3  Subject: email 57 million people for $ 99\\n \\n...      1\n",
       "4           4  Subject: do n't miss these !\\n \\n attention ! ...      1"
      ]
     },
     "execution_count": 8,
     "metadata": {},
     "output_type": "execute_result"
    }
   ],
   "source": [
    "dfLing.head()"
   ]
  },
  {
   "cell_type": "code",
   "execution_count": 13,
   "metadata": {},
   "outputs": [
    {
     "data": {
      "text/plain": [
       "'Subject: great part-time or summer job !\\n \\n * * * * * * * * * * * * * * * we have display boxes with credit applications that we need to place in the small owner-operated stores in your area . here is what you do : 1 . introduce yourself to the store owner or manager . 2 . use our 90 % effective script which tells them how this little display box will save their customers hundreds of dollars , be a drawing card for their business , and make them from $ 5 . 00 to $ 15 . 00 or more for every app sent in . 3 . find a good spot on the counter , place the box there , and say that nothing more need be done , all you need is his name and address so the company can send him the commission checks . your compensaation will be $ 10 for every box you place . by becoming a representative you could also earn a commission of $ 10 for each application that came from that store . that is of course a much more profitable plan , as it will pay you for months or years for a very small effort . call 1-888 - 703-5390 code 3 24 hours to receive the details ! ! * * * * * * * * * * * * * * * * * * * * * * * * * * * * * * * * * * * * * * * * * * * * * * * * * * * * * * * * * * * * * * * * * * * * * * * * * * * * * * * * * * * * * * * * * * * * * * * * * * * * * * * * * * * * * * * * * * * * * * * * * * * * * * * * * * * * * * * * * * * * * * * * * * * * * * * * * * * * * * * * * * * * * * * * * * * * * * * * * * * * * * * to be removed from our mailing list , type : b2998 @ hotmail . com in the ( to : ) area and ( remove ) in the subject area of a new e - mail and send . * * * * * * * * * * * * * * * * * * * * * * * * * * * * * * * * * * * * * * * * * * * * * * * * * * * * * * * * * * * * * * * * * * * * * * * * * * * * * * * * * * * * * * * * * * * * * * * * * * * * * * * * * * * * * * * * * * * * * * * * * * * * * * * * * * * *\\n'"
      ]
     },
     "execution_count": 13,
     "metadata": {},
     "output_type": "execute_result"
    }
   ],
   "source": [
    "dfLing.iloc[0]['Body']"
   ]
  },
  {
   "attachments": {},
   "cell_type": "markdown",
   "metadata": {},
   "source": [
    "# Comments\n",
    "\n"
   ]
  }
 ],
 "metadata": {
  "kernelspec": {
   "display_name": "Python 3",
   "language": "python",
   "name": "python3"
  },
  "language_info": {
   "codemirror_mode": {
    "name": "ipython",
    "version": 3
   },
   "file_extension": ".py",
   "mimetype": "text/x-python",
   "name": "python",
   "nbconvert_exporter": "python",
   "pygments_lexer": "ipython3",
   "version": "3.10.7"
  },
  "orig_nbformat": 4,
  "vscode": {
   "interpreter": {
    "hash": "26de051ba29f2982a8de78e945f0abaf191376122a1563185a90213a26c5da77"
   }
  }
 },
 "nbformat": 4,
 "nbformat_minor": 2
}
