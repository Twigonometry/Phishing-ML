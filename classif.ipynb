{
 "cells": [
  {
   "attachments": {},
   "cell_type": "markdown",
   "metadata": {},
   "source": [
    "# Phishing Email Generation and Classification\n",
    "\n",
    "Experimental notebook for classification and generation of phishing emails using several techniques.\n",
    "\n",
    "Roadmap:\n",
    "- Preprocessing\n",
    "    - Sentiment Analysis\n",
    "    - Extract features based on persuasive features of speech / common phishing tropes\n",
    "    - Steal some feature ideas from webpage classification and apply these\n",
    "- Classification\n",
    "    - Logistic Regression on emails\n",
    "    - word2vec/GLoVE word representation -> logistic regression\n",
    "    - Transformer-based model (BERT)\n",
    "    - Transfer learning\n",
    "- Generation\n",
    "    - With GANs\n",
    "    - With T5\n",
    "    - With transformers\n",
    "- Adversarial Learning\n",
    "    - EA-based method of classifying\n",
    "    - Cyclical GANs\n",
    "    - Use EA to seed an NN?"
   ]
  },
  {
   "cell_type": "code",
   "execution_count": 2,
   "metadata": {},
   "outputs": [],
   "source": [
    "# Install requirements - uncomment this line the first time you run this notebook\n",
    "# !pip install -r ./requirements.txt"
   ]
  },
  {
   "cell_type": "code",
   "execution_count": 3,
   "metadata": {},
   "outputs": [],
   "source": [
    "#data\n",
    "import pandas as pd\n",
    "import numpy as np\n",
    "\n",
    "#utilities\n",
    "from functools import reduce\n",
    "from tqdm import tqdm\n",
    "import itertools\n",
    "from collections import Counter\n",
    "import pickle\n",
    "import os\n",
    "import re\n",
    "import gc\n",
    "\n",
    "# scikit\n",
    "from sklearn import feature_extraction, model_selection, naive_bayes, pipeline, manifold, preprocessing, metrics\n",
    "from sklearn.linear_model import LogisticRegression\n",
    "\n",
    "# word embeddings\n",
    "import gensim\n",
    "import gensim.downloader as gensim_api\n",
    "from gensim.models.word2vec import Word2Vec as w2v\n",
    "\n",
    "#graphing\n",
    "import matplotlib.pyplot as plt\n",
    "%matplotlib inline\n",
    "\n",
    "#nltk\n",
    "import nltk\n",
    "from nltk.tokenize import RegexpTokenizer\n",
    "from nltk.stem.wordnet import WordNetLemmatizer\n",
    "from nltk.stem import PorterStemmer\n",
    "from nltk.corpus import stopwords as NLTK_STOP\n",
    "import string\n",
    "\n",
    "#spacy imports\n",
    "import spacy\n",
    "from spacy.tokenizer import Tokenizer\n",
    "from spacy.lang.en import English\n",
    "from spacy.lang.en.stop_words import STOP_WORDS as SPACY_STOP"
   ]
  },
  {
   "cell_type": "code",
   "execution_count": 4,
   "metadata": {},
   "outputs": [],
   "source": [
    "myseed = 10897"
   ]
  },
  {
   "attachments": {},
   "cell_type": "markdown",
   "metadata": {},
   "source": [
    "# Email-Spam-Dataset\n",
    "\n",
    "Use this dataset as preliminary exploration of classification techniques. Classifier can then be applied to Enron dataset if it works\n",
    "\n",
    "0: not spam\n",
    "1: spam"
   ]
  },
  {
   "cell_type": "code",
   "execution_count": 5,
   "metadata": {},
   "outputs": [],
   "source": [
    "spam_col_names = ['id', 'Body', 'Label']"
   ]
  },
  {
   "cell_type": "code",
   "execution_count": 6,
   "metadata": {},
   "outputs": [],
   "source": [
    "dfSA = pd.read_csv('./kaggle-datasets/Email-Spam-Dataset/completeSpamAssassin.csv', names=spam_col_names)"
   ]
  },
  {
   "cell_type": "code",
   "execution_count": 7,
   "metadata": {},
   "outputs": [],
   "source": [
    "dfEnron = pd.read_csv('./kaggle-datasets/Email-Spam-Dataset/enronSpamSubset.csv', names=spam_col_names).tail(-1)"
   ]
  },
  {
   "cell_type": "code",
   "execution_count": 8,
   "metadata": {},
   "outputs": [],
   "source": [
    "dfLing = pd.read_csv('./kaggle-datasets/Email-Spam-Dataset/lingSpam.csv', names=spam_col_names)"
   ]
  },
  {
   "attachments": {},
   "cell_type": "markdown",
   "metadata": {},
   "source": [
    "Take a peek at the body of the emails"
   ]
  },
  {
   "cell_type": "code",
   "execution_count": 9,
   "metadata": {},
   "outputs": [
    {
     "data": {
      "text/html": [
       "<div>\n",
       "<style scoped>\n",
       "    .dataframe tbody tr th:only-of-type {\n",
       "        vertical-align: middle;\n",
       "    }\n",
       "\n",
       "    .dataframe tbody tr th {\n",
       "        vertical-align: top;\n",
       "    }\n",
       "\n",
       "    .dataframe thead th {\n",
       "        text-align: right;\n",
       "    }\n",
       "</style>\n",
       "<table border=\"1\" class=\"dataframe\">\n",
       "  <thead>\n",
       "    <tr style=\"text-align: right;\">\n",
       "      <th></th>\n",
       "      <th>id</th>\n",
       "      <th>Body</th>\n",
       "      <th>Label</th>\n",
       "    </tr>\n",
       "  </thead>\n",
       "  <tbody>\n",
       "    <tr>\n",
       "      <th>0</th>\n",
       "      <td>NaN</td>\n",
       "      <td>Body</td>\n",
       "      <td>Label</td>\n",
       "    </tr>\n",
       "    <tr>\n",
       "      <th>1</th>\n",
       "      <td>0.0</td>\n",
       "      <td>Subject: great part-time or summer job !\\n \\n ...</td>\n",
       "      <td>1</td>\n",
       "    </tr>\n",
       "    <tr>\n",
       "      <th>2</th>\n",
       "      <td>1.0</td>\n",
       "      <td>Subject: auto insurance rates too high ?\\n \\n ...</td>\n",
       "      <td>1</td>\n",
       "    </tr>\n",
       "    <tr>\n",
       "      <th>3</th>\n",
       "      <td>2.0</td>\n",
       "      <td>Subject: do want the best and economical hunti...</td>\n",
       "      <td>1</td>\n",
       "    </tr>\n",
       "    <tr>\n",
       "      <th>4</th>\n",
       "      <td>3.0</td>\n",
       "      <td>Subject: email 57 million people for $ 99\\n \\n...</td>\n",
       "      <td>1</td>\n",
       "    </tr>\n",
       "  </tbody>\n",
       "</table>\n",
       "</div>"
      ],
      "text/plain": [
       "    id                                               Body  Label\n",
       "0  NaN                                               Body  Label\n",
       "1  0.0  Subject: great part-time or summer job !\\n \\n ...      1\n",
       "2  1.0  Subject: auto insurance rates too high ?\\n \\n ...      1\n",
       "3  2.0  Subject: do want the best and economical hunti...      1\n",
       "4  3.0  Subject: email 57 million people for $ 99\\n \\n...      1"
      ]
     },
     "execution_count": 9,
     "metadata": {},
     "output_type": "execute_result"
    }
   ],
   "source": [
    "dfLing.head()"
   ]
  },
  {
   "cell_type": "code",
   "execution_count": 18,
   "metadata": {},
   "outputs": [],
   "source": [
    "dfEdu = pd.read_csv('./educational-institute-dataset/PhishingEmailData.csv', encoding=\"ISO-8859-1\", usecols=['Email_Subject', 'Email_Content', 'Closing_Remarks'])"
   ]
  },
  {
   "cell_type": "code",
   "execution_count": 19,
   "metadata": {},
   "outputs": [
    {
     "data": {
      "text/html": [
       "<div>\n",
       "<style scoped>\n",
       "    .dataframe tbody tr th:only-of-type {\n",
       "        vertical-align: middle;\n",
       "    }\n",
       "\n",
       "    .dataframe tbody tr th {\n",
       "        vertical-align: top;\n",
       "    }\n",
       "\n",
       "    .dataframe thead th {\n",
       "        text-align: right;\n",
       "    }\n",
       "</style>\n",
       "<table border=\"1\" class=\"dataframe\">\n",
       "  <thead>\n",
       "    <tr style=\"text-align: right;\">\n",
       "      <th></th>\n",
       "      <th>Email_Subject</th>\n",
       "      <th>Email_Content</th>\n",
       "      <th>Closing_Remarks</th>\n",
       "    </tr>\n",
       "  </thead>\n",
       "  <tbody>\n",
       "    <tr>\n",
       "      <th>0</th>\n",
       "      <td>URGENT REQUEST</td>\n",
       "      <td>Are you available ?\\nNo calls text only 951307...</td>\n",
       "      <td>BEST REGARDS</td>\n",
       "    </tr>\n",
       "    <tr>\n",
       "      <th>1</th>\n",
       "      <td>Quick question</td>\n",
       "      <td>I'm in a meeting and need help getting some Am...</td>\n",
       "      <td>na</td>\n",
       "    </tr>\n",
       "    <tr>\n",
       "      <th>2</th>\n",
       "      <td>******Part time home work assistant needed******</td>\n",
       "      <td>Hello RECIPIENT\\n\\nI am urgently seeking for a...</td>\n",
       "      <td>Sincerely</td>\n",
       "    </tr>\n",
       "    <tr>\n",
       "      <th>3</th>\n",
       "      <td>Ê vendor payment</td>\n",
       "      <td>Are you around? I need to pay a vendor with th...</td>\n",
       "      <td>na</td>\n",
       "    </tr>\n",
       "    <tr>\n",
       "      <th>4</th>\n",
       "      <td>Quick question</td>\n",
       "      <td>I'm in a meeting and need help getting some Am...</td>\n",
       "      <td>na</td>\n",
       "    </tr>\n",
       "    <tr>\n",
       "      <th>...</th>\n",
       "      <td>...</td>\n",
       "      <td>...</td>\n",
       "      <td>...</td>\n",
       "    </tr>\n",
       "    <tr>\n",
       "      <th>184</th>\n",
       "      <td>Sales Contract PO:#224906999</td>\n",
       "      <td>2 new message</td>\n",
       "      <td>thanks</td>\n",
       "    </tr>\n",
       "    <tr>\n",
       "      <th>185</th>\n",
       "      <td>new bill from Ian</td>\n",
       "      <td>your bill is here</td>\n",
       "      <td>thank you</td>\n",
       "    </tr>\n",
       "    <tr>\n",
       "      <th>186</th>\n",
       "      <td>Re: Payment Invoice</td>\n",
       "      <td>please check your</td>\n",
       "      <td>Thank you</td>\n",
       "    </tr>\n",
       "    <tr>\n",
       "      <th>187</th>\n",
       "      <td>KSU Infringement</td>\n",
       "      <td>email has been reposted , regulation</td>\n",
       "      <td>Sincerely</td>\n",
       "    </tr>\n",
       "    <tr>\n",
       "      <th>188</th>\n",
       "      <td>We recieved your request</td>\n",
       "      <td>request to deactivate</td>\n",
       "      <td>na</td>\n",
       "    </tr>\n",
       "  </tbody>\n",
       "</table>\n",
       "<p>189 rows × 3 columns</p>\n",
       "</div>"
      ],
      "text/plain": [
       "                                        Email_Subject  \\\n",
       "0                                      URGENT REQUEST   \n",
       "1                                      Quick question   \n",
       "2    ******Part time home work assistant needed******   \n",
       "3                                    Ê vendor payment   \n",
       "4                                      Quick question   \n",
       "..                                                ...   \n",
       "184                      Sales Contract PO:#224906999   \n",
       "185                                 new bill from Ian   \n",
       "186                               Re: Payment Invoice   \n",
       "187                                  KSU Infringement   \n",
       "188                          We recieved your request   \n",
       "\n",
       "                                         Email_Content Closing_Remarks  \n",
       "0    Are you available ?\\nNo calls text only 951307...    BEST REGARDS  \n",
       "1    I'm in a meeting and need help getting some Am...              na  \n",
       "2    Hello RECIPIENT\\n\\nI am urgently seeking for a...     Sincerely    \n",
       "3    Are you around? I need to pay a vendor with th...              na  \n",
       "4    I'm in a meeting and need help getting some Am...              na  \n",
       "..                                                 ...             ...  \n",
       "184                                      2 new message          thanks  \n",
       "185                                  your bill is here       thank you  \n",
       "186                                 please check your        Thank you  \n",
       "187               email has been reposted , regulation       Sincerely  \n",
       "188                              request to deactivate              na  \n",
       "\n",
       "[189 rows x 3 columns]"
      ]
     },
     "execution_count": 19,
     "metadata": {},
     "output_type": "execute_result"
    }
   ],
   "source": [
    "dfEdu"
   ]
  },
  {
   "cell_type": "code",
   "execution_count": 20,
   "metadata": {},
   "outputs": [],
   "source": [
    "dfEdu['Body'] = dfEdu[dfEdu.columns[1:]].apply(\n",
    "    lambda x: '\\n'.join(x.dropna().astype(str)),\n",
    "    axis=1\n",
    ")"
   ]
  },
  {
   "cell_type": "code",
   "execution_count": 21,
   "metadata": {},
   "outputs": [
    {
     "data": {
      "text/html": [
       "<div>\n",
       "<style scoped>\n",
       "    .dataframe tbody tr th:only-of-type {\n",
       "        vertical-align: middle;\n",
       "    }\n",
       "\n",
       "    .dataframe tbody tr th {\n",
       "        vertical-align: top;\n",
       "    }\n",
       "\n",
       "    .dataframe thead th {\n",
       "        text-align: right;\n",
       "    }\n",
       "</style>\n",
       "<table border=\"1\" class=\"dataframe\">\n",
       "  <thead>\n",
       "    <tr style=\"text-align: right;\">\n",
       "      <th></th>\n",
       "      <th>Body</th>\n",
       "    </tr>\n",
       "  </thead>\n",
       "  <tbody>\n",
       "    <tr>\n",
       "      <th>0</th>\n",
       "      <td>Are you available ?\\nNo calls text only 951307...</td>\n",
       "    </tr>\n",
       "    <tr>\n",
       "      <th>1</th>\n",
       "      <td>I'm in a meeting and need help getting some Am...</td>\n",
       "    </tr>\n",
       "    <tr>\n",
       "      <th>2</th>\n",
       "      <td>Hello RECIPIENT\\n\\nI am urgently seeking for a...</td>\n",
       "    </tr>\n",
       "    <tr>\n",
       "      <th>3</th>\n",
       "      <td>Are you around? I need to pay a vendor with th...</td>\n",
       "    </tr>\n",
       "    <tr>\n",
       "      <th>4</th>\n",
       "      <td>I'm in a meeting and need help getting some Am...</td>\n",
       "    </tr>\n",
       "    <tr>\n",
       "      <th>...</th>\n",
       "      <td>...</td>\n",
       "    </tr>\n",
       "    <tr>\n",
       "      <th>184</th>\n",
       "      <td>2 new message\\nthanks</td>\n",
       "    </tr>\n",
       "    <tr>\n",
       "      <th>185</th>\n",
       "      <td>your bill is here\\nthank you</td>\n",
       "    </tr>\n",
       "    <tr>\n",
       "      <th>186</th>\n",
       "      <td>please check your \\nThank you</td>\n",
       "    </tr>\n",
       "    <tr>\n",
       "      <th>187</th>\n",
       "      <td>email has been reposted , regulation\\nSincerely</td>\n",
       "    </tr>\n",
       "    <tr>\n",
       "      <th>188</th>\n",
       "      <td>request to deactivate\\nna</td>\n",
       "    </tr>\n",
       "  </tbody>\n",
       "</table>\n",
       "<p>189 rows × 1 columns</p>\n",
       "</div>"
      ],
      "text/plain": [
       "                                                  Body\n",
       "0    Are you available ?\\nNo calls text only 951307...\n",
       "1    I'm in a meeting and need help getting some Am...\n",
       "2    Hello RECIPIENT\\n\\nI am urgently seeking for a...\n",
       "3    Are you around? I need to pay a vendor with th...\n",
       "4    I'm in a meeting and need help getting some Am...\n",
       "..                                                 ...\n",
       "184                              2 new message\\nthanks\n",
       "185                       your bill is here\\nthank you\n",
       "186                      please check your \\nThank you\n",
       "187    email has been reposted , regulation\\nSincerely\n",
       "188                          request to deactivate\\nna\n",
       "\n",
       "[189 rows x 1 columns]"
      ]
     },
     "execution_count": 21,
     "metadata": {},
     "output_type": "execute_result"
    }
   ],
   "source": [
    "dfEdu.drop(columns=['Email_Subject', 'Email_Content', 'Closing_Remarks'])"
   ]
  },
  {
   "attachments": {},
   "cell_type": "markdown",
   "metadata": {},
   "source": [
    "## Process Enron Dataset\n",
    "\n",
    "Extract the message bodies from the Enron dataset\n",
    "\n",
    "The Enron dataset is very large. To save RAM, the first time you process it you can save it to a csv, then restart the jupyter and load it from CSV (so temporary rows are not stored in RAM)"
   ]
  },
  {
   "cell_type": "code",
   "execution_count": 11,
   "metadata": {},
   "outputs": [],
   "source": [
    "def process_enron():\n",
    "    dfEnronFull = pd.read_csv('./kaggle-datasets/The-Enron-Email-Dataset/emails.csv', usecols=['message'])\n",
    "\n",
    "    #TODO: for now we are overwriting the message column for memory-saving purposes,\n",
    "    # but in future we may wnat to extract other features from the message column such as email metadata\n",
    "    #the issue is that no other datasets contain this data\n",
    "    #TODO: even overwriting, this still seems to use the same amount of ram\n",
    "    #TODO: when reading from csv in load_processed_enron it gets an index, but not when do initial read - here need to ensure has index\n",
    "    dfEnronFull['message'] = dfEnronFull['message'].str.split(\"\\n\\n\", n=1).str[1]\n",
    "    dfEnronFull[\"id\"] = dfEnronFull.index + 1\n",
    "    dfEnronFull[\"label\"] = 0\n",
    "\n",
    "    dfEnronFull.to_csv('./Processed-Datasets/Enron-Bodies/emails.csv', columns=['message'])\n",
    "\n",
    "    return dfEnronFull"
   ]
  },
  {
   "cell_type": "code",
   "execution_count": 13,
   "metadata": {},
   "outputs": [],
   "source": [
    "def load_processed_enron():\n",
    "    dfEnronFull = pd.read_csv('./Processed-Datasets/Enron-Bodies/emails.csv', usecols=['message'])\n",
    "    dfEnronFull[\"id\"] = dfEnronFull.index + 1\n",
    "    dfEnronFull[\"Label\"] = 0\n",
    "\n",
    "    return dfEnronFull"
   ]
  },
  {
   "cell_type": "code",
   "execution_count": 14,
   "metadata": {},
   "outputs": [],
   "source": [
    "#uncomment if you haven't run enron yet\n",
    "# dfEnronFull = process_enron()"
   ]
  },
  {
   "cell_type": "code",
   "execution_count": 15,
   "metadata": {},
   "outputs": [],
   "source": [
    "#comment if you're running enron for first time\n",
    "dfEnronFull = load_processed_enron()"
   ]
  },
  {
   "attachments": {},
   "cell_type": "markdown",
   "metadata": {},
   "source": [
    "# Preprocessing\n",
    "\n",
    "In avoidance of 'self-plagiarisation', much of the code for the `Dataset` class is adapted from my Text Processing Sentiment Analysis assignment. Code can be provided to markers on request"
   ]
  },
  {
   "cell_type": "code",
   "execution_count": 17,
   "metadata": {},
   "outputs": [],
   "source": [
    "#download wordnet for lemmatization\n",
    "#uncomment appropriate line if you get error: \"Resource wordnet not found.\", \"Resource punkt not found.\", etc...\n",
    "\n",
    "# nltk.download('wordnet')\n",
    "# nltk.download('punkt')\n",
    "# nltk.download('stopwords')\n",
    "# nltk.download('averaged_perceptron_tagger')"
   ]
  },
  {
   "cell_type": "code",
   "execution_count": 18,
   "metadata": {},
   "outputs": [],
   "source": [
    "#download spacy dataset\n",
    "#uncomment the line below if you get error \"Can't find model 'en_core_web_sm'\"\n",
    "# !python -m spacy download en_core_web_sm\n",
    "# !python3 -m spacy download en_core_web_sm\n",
    "\n",
    "nlp = spacy.load('en_core_web_sm')"
   ]
  },
  {
   "attachments": {},
   "cell_type": "markdown",
   "metadata": {},
   "source": [
    "`Dataset` Class - this takes a `Dataframe` and applies various preprocessing/feature selection techniques to it"
   ]
  },
  {
   "cell_type": "code",
   "execution_count": 19,
   "metadata": {},
   "outputs": [],
   "source": [
    "class Dataset:\n",
    "    def __init__(self, df, preprocessing=[\"lower\"], feature_selection=[\"alltokens\"], retList=False, skip_data_loading=False):\n",
    "        if skip_data_loading:\n",
    "            pass\n",
    "        \n",
    "        #read preprocessing and feature_selection configuration\n",
    "        self.data = df\n",
    "        self.preprocessing = preprocessing\n",
    "        self.feature_selection = feature_selection\n",
    "        self.retList = retList\n",
    "\n",
    "        # === define various processors and regexes for various preprocessing/feature selection methods ===\n",
    "\n",
    "        # NLTK Stemming Engine\n",
    "        self.porter = PorterStemmer()\n",
    "\n",
    "        #NLTK Lemmatizing Engine\n",
    "        self.wn_lt = WordNetLemmatizer()\n",
    "\n",
    "        #tokenizers\n",
    "\n",
    "        #words regex - splits on word boundaries, doesn't include punctuation etc\n",
    "        self.word_tokenizer = RegexpTokenizer(r'\\w+')\n",
    "\n",
    "        #create tokenizer based on NLTK-provided regex from Labs\n",
    "        nltk_pat = r'''(?x) # set flag to allow verbose regexps\n",
    "            (?:[A-Z]\\.)+ # abbreviations, e.g. U.S.A.\n",
    "            | \\w+(?:-\\w+)* # words with optional internal hyphens\n",
    "            | \\$?\\d+(?:\\.\\d+)?%? # currency and percentages, e.g. $12.40, 82%\n",
    "            | \\.\\.\\. # ellipsis\n",
    "            | [][.,;\"'?():_`-]\n",
    "            | [>]?[:;][\\']?[\\(\\)\\[\\]]+ # these are separate tokens; includes ], [\n",
    "            '''\n",
    "        self.nltk_tokenizer = RegexpTokenizer(nltk_pat)\n",
    "\n",
    "        #create tokenizer based on custom regex based on above, with less features\n",
    "        custom_pat = r'''(?x)\n",
    "                \\w+(?:-\\w+)*\n",
    "                |\\$?\\d+(?:\\.\\d+)?%?\n",
    "                |\\.\\.\\.'''\n",
    "        self.custom_tokenizer = RegexpTokenizer(custom_pat)\n",
    "\n",
    "        # stop words - SPACY_STOP defined above in imports\n",
    "\n",
    "        self.NLTK_ENGLISH_STOP = set(NLTK_STOP.words('english'))\n",
    "    \n",
    "    def preprocess_phrase(self, phrase):\n",
    "        \"\"\"define preprocessing function for phrases\n",
    "        can call any number of these options - however, some may not combine well\"\"\"\n",
    "\n",
    "        if self.preprocessing == []:\n",
    "            #no preprocessing\n",
    "            return phrase\n",
    "        if \"multi_space\" in self.preprocessing:\n",
    "            phrase = re.sub(' +', ' ', phrase)\n",
    "        if \"lower\" in self.preprocessing:\n",
    "            #lowercase\n",
    "            phrase = phrase.lower()\n",
    "        if \"newlines\" in self.preprocessing:\n",
    "            phrase = \" \".join(filter(None, phrase.split(\"\\n\")))\n",
    "        if \"returns\" in self.preprocessing:\n",
    "            phrase = \" \".join(filter(None, phrase.split(\"\\r\")))\n",
    "        if \"punc\" in self.preprocessing:\n",
    "            #remove punctuation\n",
    "            phrase = phrase.translate(str.maketrans('','',string.punctuation))\n",
    "        if \"stemming\" in self.preprocessing:\n",
    "            #use NLTK stemming\n",
    "            phrase = self.porter.stem(phrase)\n",
    "        if \"nltk_lemmatize\" in self.preprocessing:\n",
    "            #use NLTK's lemmatization method\n",
    "            new_phrase = \"\"\n",
    "            words = nltk.word_tokenize(phrase)\n",
    "            for word in words:\n",
    "                new_phrase += self.wn_lt.lemmatize(word)\n",
    "            phrase = new_phrase\n",
    "        if \"spacy_lemmatize\" in self.preprocessing:\n",
    "            #use spacy's lemmatization method\n",
    "            nlp_phrase = nlp(phrase)\n",
    "            new_phrase = \"\"\n",
    "            for token in nlp_phrase:\n",
    "                new_phrase += (token.lemma_ + \" \")\n",
    "            phrase = new_phrase\n",
    "\n",
    "        return phrase\n",
    "\n",
    "    def extract_features_from_phrase(self, phrase):\n",
    "        \"\"\"define feature extraction function for phrases\n",
    "        extracts all words from all phrases as features for document set\n",
    "        for each method, if one has already been applied the phrase must be treated as a list\"\"\"\n",
    "\n",
    "        #list of negation words from \n",
    "        negation_words = [\"neither\", \"never\", \"no\", \"nobody\", \"none\", \"noone\", \"nor\", \"not\", \"nothing\", \"nowhere\"]\n",
    "\n",
    "        intensifer_words = [\"absolutely\", \"completely\", \"extremely\", \"highly\", \"rather\", \"really\", \"so\", \"too\", \"totally\", \"utterly\", \"very\"]\n",
    "\n",
    "        #TODO: add words for authority, bank accounts, urgency, click here, ...\n",
    "\n",
    "        #use if len(self.feature_selection) > 1 to check if any preprocessing already occurred, as input will be in a list\n",
    "\n",
    "        if self.feature_selection == []:\n",
    "            #we have to do some feature selection, absolute minimum is alltokens\n",
    "            return phrase.split(\" \")\n",
    "        if \"alltokens\" in self.feature_selection:\n",
    "            #split based on whitespace\n",
    "            phrase = phrase.split(\" \")\n",
    "        if \"nltk_tokenize\" in self.feature_selection:\n",
    "            #tokenize using NLTK tokenizer, with words regex\n",
    "            if isinstance(phrase, list):\n",
    "                phrase =  list(itertools.chain.from_iterable([self.word_tokenizer.tokenize(partial_phrase) for partial_phrase in phrase]))\n",
    "            else:\n",
    "                phrase = self.word_tokenizer.tokenize(phrase)\n",
    "                # print(phrase)\n",
    "        if \"nltk_tokenize_2\" in self.feature_selection:\n",
    "            #tokenize using NLTK's regex\n",
    "            if isinstance(phrase, list):\n",
    "                phrase =  list(itertools.chain.from_iterable([self.nltk_tokenizer.tokenize(partial_phrase) for partial_phrase in phrase]))\n",
    "            else:\n",
    "                phrase = self.nltk_tokenizer.tokenize(phrase)\n",
    "        if \"custom_tokenize\" in self.feature_selection:\n",
    "            #tokenize with custom regex\n",
    "            if isinstance(phrase, list):\n",
    "                phrase = list(itertools.chain.from_iterable([self.custom_tokenizer.tokenize(partial_phrase) for partial_phrase in phrase]))\n",
    "            else:\n",
    "                phrase = self.custom_tokenizer.tokenize(phrase)\n",
    "        if \"nltk_stoplist\" in self.feature_selection:\n",
    "            #use an NLTK stoplist\n",
    "            if isinstance(phrase, list):#check words if already split into list\n",
    "                #TODO: quicker way to run this?\n",
    "                phrases = []\n",
    "                for partial_phrase in phrase:\n",
    "                    if partial_phrase not in self.NLTK_ENGLISH_STOP:\n",
    "                        phrases.append(partial_phrase)\n",
    "                phrase = phrases\n",
    "            else:#split into list then eval words\n",
    "                phrase = [word for word in phrase.split(\" \") if word not in self.NLTK_ENGLISH_STOP]\n",
    "        if \"spacy_stoplist\" in self.feature_selection:\n",
    "            #use a spacy stoplist\n",
    "            if isinstance(phrase, list):\n",
    "                phrases = []\n",
    "                for partial_phrase in phrase:\n",
    "                    if partial_phrase not in list(SPACY_STOP):\n",
    "                        phrases.append(partial_phrase)\n",
    "                phrase = phrases\n",
    "            else:\n",
    "                phrase = [word for word in phrase.split(\" \") if word not in list(SPACY_STOP)]\n",
    "        if \"custom_stoplist\" in self.feature_selection:\n",
    "            #use a custom stoplist\n",
    "            stoplist = [\"subject\"]\n",
    "            if isinstance(phrase, list):\n",
    "                phrases = []\n",
    "                for partial_phrase in phrase:\n",
    "                    if partial_phrase not in stoplist:\n",
    "                        phrases.append(partial_phrase)\n",
    "                phrase = phrases\n",
    "            else:\n",
    "                phrase = [word for word in phrase.split(\" \") if word not in stoplist]\n",
    "        if \"nltk_pos_tag\" in self.feature_selection:\n",
    "            #use POS tagging - must be a list, so split by spaces if not already\n",
    "            if isinstance(phrase, list):\n",
    "                phrase = nltk.pos_tag(phrase)\n",
    "            else:\n",
    "                phrase = phrase.split(\" \")\n",
    "                phrase = nltk.pos_tag(phrase)\n",
    "        if \"negation_bigrams\" in self.feature_selection:\n",
    "            #create bigrams with negation words + their successors\n",
    "            if len(self.feature_selection) > 1:\n",
    "                phrases = []\n",
    "                for j in range(0, len(phrase)):\n",
    "                    partial_phrase = phrase[j]\n",
    "                    split = partial_phrase.split(\" \")\n",
    "\n",
    "                    for i in range(0, len(split)):\n",
    "                        if split[i] in negation_words and i != len(split) - 1:\n",
    "                            #add the negation word and its successor to the list of phrases\n",
    "                            phrases.append(split[i] + \" \" + split[i+1])\n",
    "                        else:\n",
    "                            #skip to next partial if negation is at end of partial phrase\n",
    "                            if split[i] in negation_words and j != len(phrase) - 1:\n",
    "                                # print(\"Next partial\")\n",
    "                                phrases.append(split[i] + \" \" + phrase[j+1].split(\" \")[0])\n",
    "                            else:\n",
    "                                #skip entirely if this is the last partial phrase\n",
    "                                phrases.append(split[i])\n",
    "                phrase = phrases\n",
    "            else:\n",
    "                split = phrase.split(\" \")\n",
    "                phrase = []\n",
    "                for i in range(0, len(split)):\n",
    "                    if split[i] in negation_words and i != len(split) - 1:\n",
    "                        phrase.append(split[i] + \" \" + split[i+1])\n",
    "                    else:\n",
    "                        phrase.append(split[i])\n",
    "        if \"intensifier_bigrams\" in self.feature_selection:\n",
    "            #create bigrams with intensifier words + their successors\n",
    "            if len(self.feature_selection) > 1:\n",
    "                phrases = []\n",
    "                for j in range(0, len(phrase)):\n",
    "                    partial_phrase = phrase[j]\n",
    "                    split = partial_phrase.split(\" \")\n",
    "\n",
    "                    for i in range(0, len(split)):\n",
    "                        if split[i] in intensifer_words and i != len(split) - 1:\n",
    "                            #add the intensifier word and its successor to the list of phrases\n",
    "                            phrases.append(split[i] + \" \" + split[i+1])\n",
    "                        else:\n",
    "                            #skip to next partial if intensifier is at end of partial phrase\n",
    "                            if split[i] in intensifer_words and  j != len(phrase) - 1:\n",
    "                                phrases.append(split[i] + phrase[j+1].split(\" \")[0])\n",
    "                            else:\n",
    "                                #skip entirely if this is the last partial phrase\n",
    "                                phrases.append(split[i])\n",
    "                phrase = phrases\n",
    "            else:\n",
    "                split = phrase.split(\" \")\n",
    "                phrase = []\n",
    "                for i in range(0, len(split)):\n",
    "                    if split[i] in intensifer_words and i != len(split) - 1:\n",
    "                        phrase.append(split[i] + \" \" + split[i+1])\n",
    "                    else:\n",
    "                        phrase.append(split[i])\n",
    "        if \"remove_short_tokens\" in self.feature_selection:\n",
    "            #remove tokens with < 3 characters\n",
    "            if len(self.feature_selection) > 1:\n",
    "                phrases = []\n",
    "                for j in range(0, len(phrase)):\n",
    "                    partial_phrase = phrase[j]\n",
    "                    split = partial_phrase.split(\" \")\n",
    "\n",
    "                    #recombine it, filtering out tokens of less than 3 characters, but keeping bigrams\n",
    "                    recombined = \" \".join([p for p in split if len(p) > 2])\n",
    "                    phrases.append(recombined)\n",
    "                phrase = phrases\n",
    "            else:\n",
    "                split = phrase.split(\" \")\n",
    "                phrase = [partial_phrase for partial_phrase in split if len(partial_phrase) > 2]\n",
    "\n",
    "        if self.retList:\n",
    "            return phrase\n",
    "        \n",
    "        #rejoin into one text body in case want to do different tokenisation/one-hot later on\n",
    "        else:\n",
    "            return \" \".join(filter(None, phrase))\n",
    "        \n",
    "    #subclass must implement this\n",
    "    def process_phrases(self):\n",
    "        raise NotImplementedError\n",
    "        \n",
    "    #subclass must implement this\n",
    "    def process_dataset(self):\n",
    "        raise NotImplementedError"
   ]
  },
  {
   "attachments": {},
   "cell_type": "markdown",
   "metadata": {},
   "source": [
    "Subclass for emails"
   ]
  },
  {
   "cell_type": "code",
   "execution_count": 20,
   "metadata": {},
   "outputs": [],
   "source": [
    "class EmailDataset(Dataset):\n",
    "    def __init__(self, df, preprocessing=[], feature_selection=[], retList=False, bodyColumn='Body', skip_process_phrases=False, skip_data_loading=False):\n",
    "        super().__init__(df, preprocessing, feature_selection, retList, skip_data_loading=skip_data_loading)\n",
    "        self.bodyColumn = bodyColumn\n",
    "\n",
    "        # === apply preprocessing and feature selection ===\n",
    "\n",
    "        if not skip_process_phrases:\n",
    "            self.process_phrases()\n",
    "\n",
    "    def process_phrases(self):\n",
    "        \"\"\"extract bodies\"\"\"\n",
    "\n",
    "        self.bodies = self.data[self.bodyColumn]\n",
    "        \n",
    "        #apply preprocessing function to all phrases using list comprehension\n",
    "        self.preprocessed_phrases = [self.preprocess_phrase(phrase) for phrase in self.bodies]\n",
    "        self.features = [self.extract_features_from_phrase(phrase) for phrase in self.preprocessed_phrases]\n",
    "\n",
    "        data = {'id': self.data['id'], 'ppBody': self.features, 'label': self.data['Label']}\n",
    "        self.pp_df = pd.DataFrame(data=data)\n",
    "\n",
    "    def process_dataset(self):\n",
    "        \"\"\"applies post-processing to the dataframe rows\"\"\"\n",
    "\n",
    "        #load the text body\n",
    "        df = self.pp_df\n",
    "\n",
    "        #find the negative and positive classes\n",
    "        positive = df[df['label'] == \"1\"]\n",
    "        negative = df[df['label'] == \"0\"]\n",
    "\n",
    "        l_positive = len(positive)\n",
    "        l_negative = len(negative)\n",
    "\n",
    "        #which class is bigger?\n",
    "        min_len = min(l_positive, l_negative)\n",
    "\n",
    "        #take a random sample of the smaller class to remove class imbalance\n",
    "        if l_positive > l_negative:\n",
    "            positive = positive.sample(min_len, random_state=myseed)\n",
    "        elif l_negative > l_positive:\n",
    "            negative = negative.sample(min_len, random_state=myseed)\n",
    "\n",
    "        #create counters from the text bodies\n",
    "        self.pos_word_counter = positive['ppBody'].str.split().explode().value_counts()\n",
    "        self.neg_word_counter = negative['ppBody'].str.split().explode().value_counts()"
   ]
  },
  {
   "attachments": {},
   "cell_type": "markdown",
   "metadata": {},
   "source": [
    "Subclass for sentiment analysis"
   ]
  },
  {
   "cell_type": "code",
   "execution_count": 21,
   "metadata": {},
   "outputs": [],
   "source": [
    "class SentimentDataset(Dataset):\n",
    "    def __init__(self, df, preprocessing, feature_selection, retList, bodyColumn='Phrase'):\n",
    "        super().__init__(df, preprocessing, feature_selection, retList)\n",
    "\n",
    "        self.bodyColumn = bodyColumn\n",
    "\n",
    "        # === apply preprocessing and feature selection ===\n",
    "\n",
    "        self.process_phrases()\n",
    "\n",
    "    def process_phrases(self):\n",
    "        # return super().process_phrases()\n",
    "        #TODO: implement\n",
    "        pass"
   ]
  },
  {
   "attachments": {},
   "cell_type": "markdown",
   "metadata": {},
   "source": [
    "# Word Representation Class"
   ]
  },
  {
   "cell_type": "code",
   "execution_count": 22,
   "metadata": {},
   "outputs": [],
   "source": [
    "class WordRep:\n",
    "    def __init__(self, corpus):\n",
    "        self.corpus = corpus"
   ]
  },
  {
   "cell_type": "code",
   "execution_count": 23,
   "metadata": {},
   "outputs": [],
   "source": [
    "class TFIDF(WordRep):\n",
    "    def __init__(self, corpus, max_features=10000, ngram_range=(1,2)):\n",
    "        super().__init__(corpus)\n",
    "\n",
    "        self.vectorizer = feature_extraction.text.TfidfVectorizer(max_features=max_features, ngram_range=ngram_range)\n",
    "        self.vectorizer.fit(self.corpus)\n",
    "\n",
    "        self.representation = self.vectorizer.transform(self.corpus)\n",
    "        self.vocabulary = self.vectorizer.vocabulary_"
   ]
  },
  {
   "cell_type": "code",
   "execution_count": 24,
   "metadata": {},
   "outputs": [],
   "source": [
    "class Word2Vec(WordRep):\n",
    "    def __init__(self, corpus):\n",
    "        super().__init__(corpus)\n",
    "    \n",
    "    def create(self, name, size=300, window=8, min_count=1, sg=1, iter=5, callbacks=[]):\n",
    "        self.representation = w2v(self.corpus, vector_size=size, window=window, min_count=min_count, sg=sg, epochs=iter, callbacks=callbacks)\n",
    "        self.representation.save(f'./Word-Representations/{name}.model')\n",
    "\n",
    "    def load(self, path):\n",
    "        self.representation = w2v.load(path)\n",
    "\n",
    "    def get_average_doc_embedding(self, document):\n",
    "        embeddings = []\n",
    "        for word in document.split(\" \"):\n",
    "            if word in self.representation.wv:\n",
    "                embeddings.append(self.representation.wv[word])\n",
    "        \n",
    "        if len(embeddings) > 0:\n",
    "            return np.mean(embeddings, axis=0)\n",
    "        else:\n",
    "            return np.zeros(self.representation.vector_size)"
   ]
  },
  {
   "attachments": {},
   "cell_type": "markdown",
   "metadata": {},
   "source": [
    "# Classifier Class"
   ]
  },
  {
   "cell_type": "code",
   "execution_count": 25,
   "metadata": {},
   "outputs": [],
   "source": [
    "class Classifier:\n",
    "    def __init__(self, dataset, word_rep, bodyColumn='ppBody'):\n",
    "        self.dataset = dataset\n",
    "        self.bodyColumn = bodyColumn\n",
    "\n",
    "        self.split_data()\n",
    "\n",
    "        self.word_rep = word_rep\n",
    "    \n",
    "    def split_data(self, label_index=-1):\n",
    "        #get X and y dataframes - assumes label is last column\n",
    "        self.X = self.dataset.pp_df.iloc[:, :label_index]\n",
    "        self.y = self.dataset.pp_df.iloc[:, label_index]\n",
    "\n",
    "        #random split\n",
    "        ss = model_selection.ShuffleSplit(n_splits=1, test_size=0.25, random_state=myseed)\n",
    "        indexes = list(ss.split(self.X, self.y))\n",
    "        train_set  = indexes[0][0]\n",
    "        test_set  = indexes[0][1]\n",
    "\n",
    "        self.X_train = self.X.iloc[train_set, :]\n",
    "        self.y_train = self.y.iloc[train_set]\n",
    "        self.X_test = self.X.iloc[test_set, :]\n",
    "        self.y_test = self.y.iloc[test_set]\n",
    "\n",
    "    def get_numerical_rep(self, data, method='word_embedding'):\n",
    "        if method == 'one_hot':\n",
    "            #TODO add an option for one hot? not necessary\n",
    "            pass\n",
    "        elif method == 'word_embedding':\n",
    "            rep = []\n",
    "\n",
    "            docs = data[self.bodyColumn]\n",
    "            for doc in docs:\n",
    "                rep.append(self.word_rep.get_average_doc_embedding(doc))\n",
    "\n",
    "        return rep\n",
    "\n",
    "    def train(self, method='logistic_regression'):\n",
    "        self.train_method = method\n",
    "\n",
    "        if method == 'logistic_regression':\n",
    "            self.train_embeddings = self.get_numerical_rep(self.X_train)\n",
    "            self.model = LogisticRegression(random_state=0).fit(self.train_embeddings, self.y_train)\n",
    "            \n",
    "        if method == 'naive_bayes':\n",
    "            self.method = naive_bayes.MultinomialNB()\n",
    "\n",
    "            self.model = pipeline.Pipeline([(\"vectorizer\", self.word_rep.vectorizer),\n",
    "                                            (\"classifier\", self.method)])\n",
    "\n",
    "            self.model[\"classifier\"].fit(self.X_train, self.y_train)\n",
    "\n",
    "    def predict(self, data, evaluate=False, labels=None):\n",
    "        if self.train_method == 'logistic_regression':\n",
    "            data = self.get_numerical_rep(data)\n",
    "        else:\n",
    "            data = data[self.bodyColumn]\n",
    "            \n",
    "        predicted = self.model.predict(data)\n",
    "\n",
    "        if evaluate:\n",
    "            if labels is None:\n",
    "                print(\"Must supply labels option\")\n",
    "            else:\n",
    "                accuracy = metrics.accuracy_score(labels, predicted)\n",
    "                print(f\"Model accuracy: {accuracy}\")\n",
    "\n",
    "        return predicted"
   ]
  },
  {
   "attachments": {},
   "cell_type": "markdown",
   "metadata": {},
   "source": [
    "# Utility Methods for Saving Models etc"
   ]
  },
  {
   "attachments": {},
   "cell_type": "markdown",
   "metadata": {},
   "source": [
    "Below methods allowed saving and loading the pickled counters, but this is less necessary now that `process_dataset()` is faster - can still be used to save objects"
   ]
  },
  {
   "cell_type": "code",
   "execution_count": 26,
   "metadata": {},
   "outputs": [],
   "source": [
    "def save_pickle(object, path):\n",
    "    if not os.path.exists('./Pickle'):\n",
    "        os.makedirs('./Pickle')\n",
    "\n",
    "    with open('./Pickle/' + path, 'wb') as output:\n",
    "        pickle.dump(object, output)"
   ]
  },
  {
   "cell_type": "code",
   "execution_count": 27,
   "metadata": {},
   "outputs": [],
   "source": [
    "def load_pickle(path):\n",
    "    with open('./Pickle/' + path, 'rb') as input:\n",
    "        return pickle.load(input)"
   ]
  },
  {
   "attachments": {},
   "cell_type": "markdown",
   "metadata": {},
   "source": [
    "Uncomment the below to save your counters to a file for later use"
   ]
  },
  {
   "cell_type": "code",
   "execution_count": 28,
   "metadata": {},
   "outputs": [],
   "source": [
    "# save_pickle(d.pos_word_counter, 'd-pos.pickle')\n",
    "# save_pickle(d.neg_word_counter, 'd-neg.pickle')\n",
    "# save_pickle(d2.pos_word_counter, 'd2-pos.pickle')\n",
    "# save_pickle(d2.neg_word_counter, 'd2-neg.pickle')"
   ]
  },
  {
   "attachments": {},
   "cell_type": "markdown",
   "metadata": {},
   "source": [
    "Uncomment the below to load your saved counters"
   ]
  },
  {
   "cell_type": "code",
   "execution_count": 29,
   "metadata": {},
   "outputs": [],
   "source": [
    "# d1_pos_counts = load_pickle('d-pos.pickle')\n",
    "# d1_neg_counts = load_pickle('d-neg.pickle')\n",
    "# d2_pos_counts = load_pickle('d2-pos.pickle')\n",
    "# d2_neg_counts = load_pickle('d2-neg.pickle')"
   ]
  },
  {
   "attachments": {},
   "cell_type": "markdown",
   "metadata": {},
   "source": [
    "# Instantiate some datasets "
   ]
  },
  {
   "attachments": {},
   "cell_type": "markdown",
   "metadata": {},
   "source": [
    "Instantiate our dataset `d` with basic feature selection + tokenisation"
   ]
  },
  {
   "cell_type": "code",
   "execution_count": 30,
   "metadata": {},
   "outputs": [],
   "source": [
    "#instantiate a new dataset\n",
    "#run the preprocessing with lowercasing, removing newlines, stemming, and tokenisation using the nltk regex\n",
    "# d = EmailDataset(dfSpam, preprocessing=[\"lower\",\"newlines\",\"stemming\"], feature_selection=[\"nltk_tokenize\"], retList=False)"
   ]
  },
  {
   "cell_type": "code",
   "execution_count": 31,
   "metadata": {},
   "outputs": [],
   "source": [
    "# d2 = EmailDataset(dfSpam, preprocessing=[\"lower\",\"newlines\",\"stemming\"], feature_selection=[\"nltk_tokenize\", \"nltk_stoplist\"], retList=False)"
   ]
  },
  {
   "cell_type": "code",
   "execution_count": 32,
   "metadata": {},
   "outputs": [],
   "source": [
    "# d3 = EmailDataset(dfSpam, preprocessing=[\"lower\",\"newlines\",\"stemming\",\"returns\"], feature_selection=[\"nltk_tokenize\", \"nltk_stoplist\", \"remove_short_tokens\"], retList=False)"
   ]
  },
  {
   "cell_type": "code",
   "execution_count": 33,
   "metadata": {},
   "outputs": [],
   "source": [
    "# d.process_dataset()"
   ]
  },
  {
   "cell_type": "code",
   "execution_count": 34,
   "metadata": {},
   "outputs": [],
   "source": [
    "# d2.process_dataset()"
   ]
  },
  {
   "cell_type": "code",
   "execution_count": 35,
   "metadata": {},
   "outputs": [],
   "source": [
    "# d3.process_dataset()"
   ]
  },
  {
   "attachments": {},
   "cell_type": "markdown",
   "metadata": {},
   "source": [
    "## Identifying Duplicates in Enron Dataset\n",
    "\n",
    "As the Email-Spam-Dataset contains Enron emails marked as spam, we should remove these from the Enron dataset. Then we can relatively safely assume everything else in the Enron dataset is non-spam\n",
    "\n",
    "The Enron dataset is very large. To save RAM, the first time you process it you can save it to a csv, then restart the jupyter and load it from CSV (so temporary rows are not stored in RAM)"
   ]
  },
  {
   "cell_type": "code",
   "execution_count": 36,
   "metadata": {},
   "outputs": [],
   "source": []
  },
  {
   "cell_type": "code",
   "execution_count": 37,
   "metadata": {},
   "outputs": [],
   "source": [
    "def strip_spam_from_enron():\n",
    "    dEnronSpam = EmailDataset(dfEnron, preprocessing=[\"lower\",\"newlines\",\"stemming\",\"returns\"], feature_selection=[\"nltk_tokenize\", \"nltk_stoplist\", \"remove_short_tokens\", \"custom_stoplist\"], retList=False)\n",
    "    \n",
    "    dEnron = EmailDataset(dfEnronFull, preprocessing=[\"lower\",\"newlines\",\"stemming\",\"returns\"], feature_selection=[\"nltk_tokenize\", \"nltk_stoplist\", \"remove_short_tokens\", \"custom_stoplist\"], retList=False, bodyColumn='message')\n",
    "\n",
    "    #remove the items that appear in spam list, as best we can by comparing preprocessed email bodies - might not catch all of them\n",
    "    #requires that the same preprocessing/feature selection is applied to dEnronSpam\n",
    "    #making a big assumption here,but dataset is too big to manually inspect the duplicates\n",
    "    dEnron.pp_df = dEnron.pp_df[~dEnron.pp_df.ppBody.isin(dEnronSpam.pp_df.ppBody)]\n",
    "\n",
    "    dEnron.pp_df.to_csv('./Processed-Datasets/Enron-Bodies/enron-ham-only.csv')\n",
    "\n",
    "    return dEnron"
   ]
  },
  {
   "cell_type": "code",
   "execution_count": 38,
   "metadata": {},
   "outputs": [],
   "source": [
    "#uncomment this if you're stripping spam from enron for the first time\n",
    "# strip_spam_from_enron()"
   ]
  },
  {
   "cell_type": "code",
   "execution_count": 39,
   "metadata": {},
   "outputs": [],
   "source": [
    "def load_enron_ham_only():\n",
    "    return pd.read_csv('./Processed-Datasets/Enron-Bodies/enron-ham-only.csv')"
   ]
  },
  {
   "cell_type": "code",
   "execution_count": 40,
   "metadata": {},
   "outputs": [],
   "source": [
    "dEnronHam = load_enron_ham_only()"
   ]
  },
  {
   "attachments": {},
   "cell_type": "markdown",
   "metadata": {},
   "source": [
    "# Combine the datasets together\n",
    "\n",
    "Once loaded the ham-only Enron (i.e. duplicates removed), combine them all and apply preprocessing (applying it twice to enron shouldn't matter)"
   ]
  },
  {
   "cell_type": "code",
   "execution_count": 41,
   "metadata": {},
   "outputs": [],
   "source": [
    "all_dfs = [dEnronHam, dfEnron, dfLing, dfSpam]\n",
    "dfAll = pd.concat(dfs).dropna(axis=0)"
   ]
  },
  {
   "cell_type": "code",
   "execution_count": 42,
   "metadata": {},
   "outputs": [],
   "source": [
    "fullDataset = EmailDataset(dfAll, preprocessing=[\"lower\",\"newlines\",\"stemming\",\"returns\"], feature_selection=[\"nltk_tokenize\", \"nltk_stoplist\", \"remove_short_tokens\"], retList=False)"
   ]
  },
  {
   "attachments": {},
   "cell_type": "markdown",
   "metadata": {},
   "source": [
    "# Instantiate Word Representations for each Dataset"
   ]
  },
  {
   "cell_type": "code",
   "execution_count": 43,
   "metadata": {},
   "outputs": [],
   "source": [
    "from gensim.models.callbacks import CallbackAny2Vec"
   ]
  },
  {
   "cell_type": "code",
   "execution_count": 44,
   "metadata": {},
   "outputs": [],
   "source": [
    "class EpochLogger(CallbackAny2Vec):\n",
    "    '''Callback to log information about training'''\n",
    "\n",
    "    def __init__(self):\n",
    "        self.epoch = 0\n",
    "\n",
    "    def on_epoch_begin(self, model):\n",
    "        print(\"Epoch #{} start\".format(self.epoch))\n",
    "\n",
    "    def on_epoch_end(self, model):\n",
    "        print(\"Epoch #{} end\".format(self.epoch))\n",
    "        self.epoch += 1"
   ]
  },
  {
   "cell_type": "code",
   "execution_count": 45,
   "metadata": {},
   "outputs": [],
   "source": [
    "epoch_logger = EpochLogger()"
   ]
  },
  {
   "attachments": {},
   "cell_type": "markdown",
   "metadata": {},
   "source": [
    "Run the following to train a model:"
   ]
  },
  {
   "cell_type": "code",
   "execution_count": 53,
   "metadata": {},
   "outputs": [],
   "source": [
    "def create_word2vec(data, name):\n",
    "    \"\"\"data: the ppBody column of a Dataset's pp_df dataframe\n",
    "    name: where to save the model\"\"\"\n",
    "    w2v_model = Word2Vec(data)\n",
    "    w2v_model.create(name, callbacks=[epoch_logger])\n",
    "\n",
    "    return w2v_model"
   ]
  },
  {
   "cell_type": "code",
   "execution_count": 54,
   "metadata": {},
   "outputs": [
    {
     "name": "stdout",
     "output_type": "stream",
     "text": [
      "Epoch #10 start\n",
      "Epoch #10 end\n",
      "Epoch #11 start\n",
      "Epoch #11 end\n",
      "Epoch #12 start\n",
      "Epoch #12 end\n",
      "Epoch #13 start\n",
      "Epoch #13 end\n",
      "Epoch #14 start\n",
      "Epoch #14 end\n"
     ]
    }
   ],
   "source": [
    "w2v1 = create_word2vec(fullDataset.pp_df['ppBody'], 'fullDataw2v')"
   ]
  },
  {
   "cell_type": "code",
   "execution_count": 51,
   "metadata": {},
   "outputs": [],
   "source": [
    "w2v1"
   ]
  },
  {
   "attachments": {},
   "cell_type": "markdown",
   "metadata": {},
   "source": [
    "Load an existing model:"
   ]
  },
  {
   "cell_type": "code",
   "execution_count": 45,
   "metadata": {},
   "outputs": [],
   "source": [
    "# w2v_1 = Word2Vec(d.pp_df['ppBody'])\n",
    "# w2v_1.load('./Word-Representations/w2v_1.model')"
   ]
  },
  {
   "attachments": {},
   "cell_type": "markdown",
   "metadata": {},
   "source": [
    "Train the classifier"
   ]
  },
  {
   "cell_type": "code",
   "execution_count": 55,
   "metadata": {},
   "outputs": [],
   "source": [
    "classifier_1 = Classifier(fullDataset, w2v1)"
   ]
  },
  {
   "cell_type": "code",
   "execution_count": 56,
   "metadata": {},
   "outputs": [],
   "source": [
    "classifier_1.train()"
   ]
  },
  {
   "cell_type": "code",
   "execution_count": 57,
   "metadata": {},
   "outputs": [
    {
     "name": "stdout",
     "output_type": "stream",
     "text": [
      "Model accuracy: 0.6178425906069054\n"
     ]
    }
   ],
   "source": [
    "predictions = classifier_1.predict(classifier_1.X_test, evaluate=True, labels=classifier_1.y_test)"
   ]
  },
  {
   "attachments": {},
   "cell_type": "markdown",
   "metadata": {},
   "source": [
    "## Common Words\n",
    "\n",
    "Pure count-based word analysis - better measure of informativeness can be achieved using TFIDF, but this also helps us identify what \"useless\" tokens we may have failed to remove"
   ]
  },
  {
   "cell_type": "code",
   "execution_count": null,
   "metadata": {},
   "outputs": [],
   "source": [
    "def print_most_common_n(counter_df, n, name):\n",
    "    print(f\"{n} most common tokens in {name}:\\n\")\n",
    "\n",
    "    head = counter_df.head(n)\n",
    "    most_common = list(zip(head.index, head))\n",
    "\n",
    "    if n < 6:\n",
    "        output = \", \".join([f\"\\\"{word}\\\" ({count})\" for (word, count) in most_common])\n",
    "    else:\n",
    "        output = \"\\n\".join([f\"{word} ({count})\" for (word, count) in most_common])\n",
    "\n",
    "    print(output)"
   ]
  },
  {
   "cell_type": "code",
   "execution_count": null,
   "metadata": {},
   "outputs": [
    {
     "name": "stdout",
     "output_type": "stream",
     "text": [
      "20 most common tokens in dfSpam (stopwords and short tokens removed) - non-Spam emails:\n",
      "\n",
      "language (15162)\n",
      "university (15135)\n",
      "subject (14113)\n",
      "http (12953)\n",
      "enron (12349)\n",
      "com (11705)\n",
      "one (9584)\n",
      "information (9021)\n",
      "mail (8764)\n",
      "www (8569)\n",
      "would (8195)\n",
      "new (8067)\n",
      "please (8060)\n",
      "linguistics (7967)\n",
      "ect (7466)\n",
      "conference (7023)\n",
      "also (6845)\n",
      "papers (6170)\n",
      "may (6157)\n",
      "english (5787)\n"
     ]
    }
   ],
   "source": [
    "print_most_common_n(d3.neg_word_counter, 20, \"dfSpam (stopwords and short tokens removed) - non-Spam emails\")"
   ]
  },
  {
   "cell_type": "code",
   "execution_count": null,
   "metadata": {},
   "outputs": [
    {
     "name": "stdout",
     "output_type": "stream",
     "text": [
      "20 most common tokens in dfSpam (stopwords and short tokens removed) - Spam emails:\n",
      "\n",
      "subject (6630)\n",
      "com (6141)\n",
      "email (5354)\n",
      "http (4930)\n",
      "free (4511)\n",
      "000 (4127)\n",
      "mail (3959)\n",
      "please (3949)\n",
      "money (3929)\n",
      "get (3915)\n",
      "company (3898)\n",
      "information (3878)\n",
      "one (3670)\n",
      "business (3606)\n",
      "time (3371)\n",
      "report (3130)\n",
      "click (3111)\n",
      "www (3088)\n",
      "new (3087)\n",
      "order (2751)\n"
     ]
    }
   ],
   "source": [
    "print_most_common_n(d3.pos_word_counter, 20, \"dfSpam (stopwords and short tokens removed) - Spam emails\")"
   ]
  },
  {
   "attachments": {},
   "cell_type": "markdown",
   "metadata": {},
   "source": [
    "Histograms"
   ]
  },
  {
   "cell_type": "code",
   "execution_count": null,
   "metadata": {},
   "outputs": [
    {
     "data": {
      "text/plain": [
       "<Axes: xlabel='ppBody'>"
      ]
     },
     "execution_count": 35,
     "metadata": {},
     "output_type": "execute_result"
    },
    {
     "data": {
      "image/png": "[encoded data removed]",
      "text/plain": [
       "<Figure size 640x480 with 1 Axes>"
      ]
     },
     "metadata": {},
     "output_type": "display_data"
    }
   ],
   "source": [
    "d3.pos_word_counter.head(20).plot.bar()"
   ]
  },
  {
   "attachments": {},
   "cell_type": "markdown",
   "metadata": {},
   "source": [
    "# Sentiment Analysis"
   ]
  },
  {
   "attachments": {},
   "cell_type": "markdown",
   "metadata": {},
   "source": [
    "Define a Naive-Bayes based Sentiment-Analysis Model"
   ]
  },
  {
   "cell_type": "code",
   "execution_count": null,
   "metadata": {},
   "outputs": [],
   "source": [
    "from sklearn.model_selection import train_test_split\n",
    "from sklearn.naive_bayes import GaussianNB"
   ]
  },
  {
   "cell_type": "code",
   "execution_count": null,
   "metadata": {},
   "outputs": [
    {
     "data": {
      "text/html": [
       "<div>\n",
       "<style scoped>\n",
       "    .dataframe tbody tr th:only-of-type {\n",
       "        vertical-align: middle;\n",
       "    }\n",
       "\n",
       "    .dataframe tbody tr th {\n",
       "        vertical-align: top;\n",
       "    }\n",
       "\n",
       "    .dataframe thead th {\n",
       "        text-align: right;\n",
       "    }\n",
       "</style>\n",
       "<table border=\"1\" class=\"dataframe\">\n",
       "  <thead>\n",
       "    <tr style=\"text-align: right;\">\n",
       "      <th></th>\n",
       "      <th>PhraseId</th>\n",
       "      <th>SentenceId</th>\n",
       "      <th>Phrase</th>\n",
       "      <th>Sentiment</th>\n",
       "    </tr>\n",
       "  </thead>\n",
       "  <tbody>\n",
       "    <tr>\n",
       "      <th>0</th>\n",
       "      <td>1</td>\n",
       "      <td>1</td>\n",
       "      <td>A series of escapades demonstrating the adage ...</td>\n",
       "      <td>1</td>\n",
       "    </tr>\n",
       "    <tr>\n",
       "      <th>1</th>\n",
       "      <td>2</td>\n",
       "      <td>1</td>\n",
       "      <td>A series of escapades demonstrating the adage ...</td>\n",
       "      <td>2</td>\n",
       "    </tr>\n",
       "    <tr>\n",
       "      <th>2</th>\n",
       "      <td>3</td>\n",
       "      <td>1</td>\n",
       "      <td>A series</td>\n",
       "      <td>2</td>\n",
       "    </tr>\n",
       "    <tr>\n",
       "      <th>3</th>\n",
       "      <td>4</td>\n",
       "      <td>1</td>\n",
       "      <td>A</td>\n",
       "      <td>2</td>\n",
       "    </tr>\n",
       "    <tr>\n",
       "      <th>4</th>\n",
       "      <td>5</td>\n",
       "      <td>1</td>\n",
       "      <td>series</td>\n",
       "      <td>2</td>\n",
       "    </tr>\n",
       "  </tbody>\n",
       "</table>\n",
       "</div>"
      ],
      "text/plain": [
       "   PhraseId  SentenceId                                             Phrase  \\\n",
       "0         1           1  A series of escapades demonstrating the adage ...   \n",
       "1         2           1  A series of escapades demonstrating the adage ...   \n",
       "2         3           1                                           A series   \n",
       "3         4           1                                                  A   \n",
       "4         5           1                                             series   \n",
       "\n",
       "   Sentiment  \n",
       "0          1  \n",
       "1          2  \n",
       "2          2  \n",
       "3          2  \n",
       "4          2  "
      ]
     },
     "execution_count": 147,
     "metadata": {},
     "output_type": "execute_result"
    }
   ],
   "source": [
    "sent_raw = pd.read_csv(\"./kaggle-datasets/sentiment-analysis-on-movie-reviews/train.tsv\", sep='\\t')\n",
    "\n",
    "#TODO: worth re-mapping the data to 3 classes?\n",
    "\n",
    "sent_raw.head()"
   ]
  },
  {
   "cell_type": "code",
   "execution_count": null,
   "metadata": {},
   "outputs": [
    {
     "ename": "KeyError",
     "evalue": "'id'",
     "output_type": "error",
     "traceback": [
      "\u001b[1;31m---------------------------------------------------------------------------\u001b[0m",
      "\u001b[1;31mKeyError\u001b[0m                                  Traceback (most recent call last)",
      "File \u001b[1;32mc:\\Users\\theco\\AppData\\Local\\Programs\\Python\\Python39\\lib\\site-packages\\pandas\\core\\indexes\\base.py:3803\u001b[0m, in \u001b[0;36mIndex.get_loc\u001b[1;34m(self, key, method, tolerance)\u001b[0m\n\u001b[0;32m   3802\u001b[0m \u001b[39mtry\u001b[39;00m:\n\u001b[1;32m-> 3803\u001b[0m     \u001b[39mreturn\u001b[39;00m \u001b[39mself\u001b[39;49m\u001b[39m.\u001b[39;49m_engine\u001b[39m.\u001b[39;49mget_loc(casted_key)\n\u001b[0;32m   3804\u001b[0m \u001b[39mexcept\u001b[39;00m \u001b[39mKeyError\u001b[39;00m \u001b[39mas\u001b[39;00m err:\n",
      "File \u001b[1;32mc:\\Users\\theco\\AppData\\Local\\Programs\\Python\\Python39\\lib\\site-packages\\pandas\\_libs\\index.pyx:138\u001b[0m, in \u001b[0;36mpandas._libs.index.IndexEngine.get_loc\u001b[1;34m()\u001b[0m\n",
      "File \u001b[1;32mc:\\Users\\theco\\AppData\\Local\\Programs\\Python\\Python39\\lib\\site-packages\\pandas\\_libs\\index.pyx:165\u001b[0m, in \u001b[0;36mpandas._libs.index.IndexEngine.get_loc\u001b[1;34m()\u001b[0m\n",
      "File \u001b[1;32mpandas\\_libs\\hashtable_class_helper.pxi:5745\u001b[0m, in \u001b[0;36mpandas._libs.hashtable.PyObjectHashTable.get_item\u001b[1;34m()\u001b[0m\n",
      "File \u001b[1;32mpandas\\_libs\\hashtable_class_helper.pxi:5753\u001b[0m, in \u001b[0;36mpandas._libs.hashtable.PyObjectHashTable.get_item\u001b[1;34m()\u001b[0m\n",
      "\u001b[1;31mKeyError\u001b[0m: 'id'",
      "\nThe above exception was the direct cause of the following exception:\n",
      "\u001b[1;31mKeyError\u001b[0m                                  Traceback (most recent call last)",
      "\u001b[1;32md:\\Documents\\Phishing-ML\\classif.ipynb Cell 46\u001b[0m in \u001b[0;36m<module>\u001b[1;34m\u001b[0m\n\u001b[1;32m----> <a href='vscode-notebook-cell:/d%3A/Documents/Phishing-ML/classif.ipynb#Y243sZmlsZQ%3D%3D?line=0'>1</a>\u001b[0m sent_dataset \u001b[39m=\u001b[39m Dataset(sent_raw, preprocessing\u001b[39m=\u001b[39;49m[\u001b[39m\"\u001b[39;49m\u001b[39mlower\u001b[39;49m\u001b[39m\"\u001b[39;49m,\u001b[39m\"\u001b[39;49m\u001b[39mpunc\u001b[39;49m\u001b[39m\"\u001b[39;49m], feature_selection\u001b[39m=\u001b[39;49m[\u001b[39m\"\u001b[39;49m\u001b[39malltokens\u001b[39;49m\u001b[39m\"\u001b[39;49m,\u001b[39m\"\u001b[39;49m\u001b[39mcustom_tokenize\u001b[39;49m\u001b[39m\"\u001b[39;49m], bodyColumn\u001b[39m=\u001b[39;49m\u001b[39m'\u001b[39;49m\u001b[39mPhrase\u001b[39;49m\u001b[39m'\u001b[39;49m)\n",
      "\u001b[1;32md:\\Documents\\Phishing-ML\\classif.ipynb Cell 46\u001b[0m in \u001b[0;36mDataset.__init__\u001b[1;34m(self, df, preprocessing, feature_selection, retList, bodyColumn)\u001b[0m\n\u001b[0;32m     <a href='vscode-notebook-cell:/d%3A/Documents/Phishing-ML/classif.ipynb#Y243sZmlsZQ%3D%3D?line=43'>44</a>\u001b[0m \u001b[39mself\u001b[39m\u001b[39m.\u001b[39mNLTK_ENGLISH_STOP \u001b[39m=\u001b[39m \u001b[39mset\u001b[39m(NLTK_STOP\u001b[39m.\u001b[39mwords(\u001b[39m'\u001b[39m\u001b[39menglish\u001b[39m\u001b[39m'\u001b[39m))\n\u001b[0;32m     <a href='vscode-notebook-cell:/d%3A/Documents/Phishing-ML/classif.ipynb#Y243sZmlsZQ%3D%3D?line=45'>46</a>\u001b[0m \u001b[39m# === apply preprocessing and feature selection ===\u001b[39;00m\n\u001b[1;32m---> <a href='vscode-notebook-cell:/d%3A/Documents/Phishing-ML/classif.ipynb#Y243sZmlsZQ%3D%3D?line=47'>48</a>\u001b[0m \u001b[39mself\u001b[39;49m\u001b[39m.\u001b[39;49mprocess_phrases()\n",
      "\u001b[1;32md:\\Documents\\Phishing-ML\\classif.ipynb Cell 46\u001b[0m in \u001b[0;36mDataset.process_phrases\u001b[1;34m(self)\u001b[0m\n\u001b[0;32m    <a href='vscode-notebook-cell:/d%3A/Documents/Phishing-ML/classif.ipynb#Y243sZmlsZQ%3D%3D?line=238'>239</a>\u001b[0m \u001b[39mself\u001b[39m\u001b[39m.\u001b[39mpreprocessed_phrases \u001b[39m=\u001b[39m [\u001b[39mself\u001b[39m\u001b[39m.\u001b[39mpreprocess_phrase(phrase) \u001b[39mfor\u001b[39;00m phrase \u001b[39min\u001b[39;00m \u001b[39mself\u001b[39m\u001b[39m.\u001b[39mbodies]\n\u001b[0;32m    <a href='vscode-notebook-cell:/d%3A/Documents/Phishing-ML/classif.ipynb#Y243sZmlsZQ%3D%3D?line=239'>240</a>\u001b[0m \u001b[39mself\u001b[39m\u001b[39m.\u001b[39mfeatures \u001b[39m=\u001b[39m [\u001b[39mself\u001b[39m\u001b[39m.\u001b[39mextract_features_from_phrase(phrase) \u001b[39mfor\u001b[39;00m phrase \u001b[39min\u001b[39;00m \u001b[39mself\u001b[39m\u001b[39m.\u001b[39mpreprocessed_phrases]\n\u001b[1;32m--> <a href='vscode-notebook-cell:/d%3A/Documents/Phishing-ML/classif.ipynb#Y243sZmlsZQ%3D%3D?line=241'>242</a>\u001b[0m data \u001b[39m=\u001b[39m {\u001b[39m'\u001b[39m\u001b[39mid\u001b[39m\u001b[39m'\u001b[39m: \u001b[39mself\u001b[39;49m\u001b[39m.\u001b[39;49mdata[\u001b[39m'\u001b[39;49m\u001b[39mid\u001b[39;49m\u001b[39m'\u001b[39;49m], \u001b[39m'\u001b[39m\u001b[39mppBody\u001b[39m\u001b[39m'\u001b[39m: \u001b[39mself\u001b[39m\u001b[39m.\u001b[39mfeatures, \u001b[39m'\u001b[39m\u001b[39mlabel\u001b[39m\u001b[39m'\u001b[39m: \u001b[39mself\u001b[39m\u001b[39m.\u001b[39mdata[\u001b[39m'\u001b[39m\u001b[39mLabel\u001b[39m\u001b[39m'\u001b[39m]}\n\u001b[0;32m    <a href='vscode-notebook-cell:/d%3A/Documents/Phishing-ML/classif.ipynb#Y243sZmlsZQ%3D%3D?line=242'>243</a>\u001b[0m \u001b[39mself\u001b[39m\u001b[39m.\u001b[39mpp_df \u001b[39m=\u001b[39m pd\u001b[39m.\u001b[39mDataFrame(data\u001b[39m=\u001b[39mdata)\n",
      "File \u001b[1;32mc:\\Users\\theco\\AppData\\Local\\Programs\\Python\\Python39\\lib\\site-packages\\pandas\\core\\frame.py:3805\u001b[0m, in \u001b[0;36mDataFrame.__getitem__\u001b[1;34m(self, key)\u001b[0m\n\u001b[0;32m   3803\u001b[0m \u001b[39mif\u001b[39;00m \u001b[39mself\u001b[39m\u001b[39m.\u001b[39mcolumns\u001b[39m.\u001b[39mnlevels \u001b[39m>\u001b[39m \u001b[39m1\u001b[39m:\n\u001b[0;32m   3804\u001b[0m     \u001b[39mreturn\u001b[39;00m \u001b[39mself\u001b[39m\u001b[39m.\u001b[39m_getitem_multilevel(key)\n\u001b[1;32m-> 3805\u001b[0m indexer \u001b[39m=\u001b[39m \u001b[39mself\u001b[39;49m\u001b[39m.\u001b[39;49mcolumns\u001b[39m.\u001b[39;49mget_loc(key)\n\u001b[0;32m   3806\u001b[0m \u001b[39mif\u001b[39;00m is_integer(indexer):\n\u001b[0;32m   3807\u001b[0m     indexer \u001b[39m=\u001b[39m [indexer]\n",
      "File \u001b[1;32mc:\\Users\\theco\\AppData\\Local\\Programs\\Python\\Python39\\lib\\site-packages\\pandas\\core\\indexes\\base.py:3805\u001b[0m, in \u001b[0;36mIndex.get_loc\u001b[1;34m(self, key, method, tolerance)\u001b[0m\n\u001b[0;32m   3803\u001b[0m     \u001b[39mreturn\u001b[39;00m \u001b[39mself\u001b[39m\u001b[39m.\u001b[39m_engine\u001b[39m.\u001b[39mget_loc(casted_key)\n\u001b[0;32m   3804\u001b[0m \u001b[39mexcept\u001b[39;00m \u001b[39mKeyError\u001b[39;00m \u001b[39mas\u001b[39;00m err:\n\u001b[1;32m-> 3805\u001b[0m     \u001b[39mraise\u001b[39;00m \u001b[39mKeyError\u001b[39;00m(key) \u001b[39mfrom\u001b[39;00m \u001b[39merr\u001b[39;00m\n\u001b[0;32m   3806\u001b[0m \u001b[39mexcept\u001b[39;00m \u001b[39mTypeError\u001b[39;00m:\n\u001b[0;32m   3807\u001b[0m     \u001b[39m# If we have a listlike key, _check_indexing_error will raise\u001b[39;00m\n\u001b[0;32m   3808\u001b[0m     \u001b[39m#  InvalidIndexError. Otherwise we fall through and re-raise\u001b[39;00m\n\u001b[0;32m   3809\u001b[0m     \u001b[39m#  the TypeError.\u001b[39;00m\n\u001b[0;32m   3810\u001b[0m     \u001b[39mself\u001b[39m\u001b[39m.\u001b[39m_check_indexing_error(key)\n",
      "\u001b[1;31mKeyError\u001b[0m: 'id'"
     ]
    }
   ],
   "source": [
    "sent_dataset = Dataset(sent_raw, preprocessing=[\"lower\",\"punc\"], feature_selection=[\"alltokens\",\"custom_tokenize\"], bodyColumn='Phrase')"
   ]
  },
  {
   "attachments": {},
   "cell_type": "markdown",
   "metadata": {},
   "source": [
    "## Training\n",
    "\n",
    "Here we use a standard labelled dataset to train the NB model. We use the whole dataset for training and validation, and do not set aside a testing dataset, as we will test against the email datasets\n",
    "\n",
    "Once we have defined a custom Sentiment measure, we can re-implement Naive Bayes with these 'custom' classes (for urgency, authority, scarcity, etc). We may use a naive dictionary-based system for labelling, and train based on this. However, we need to be careful with this approach as dictionary-based approaches struggle with things like sarcasm, negation, etc.\n",
    "\n",
    "More 'objective' features, such as a count of the number of imperative words, may be a better metric here (saying \"click here\" in an email is unlikely to be sarcastic, and \"do not click this link\" is still potentially fishy - unless it is part of an advisory telling employees not to interact with phishing emails...).\n",
    "\n",
    "Or, we may have to manually label a small training dataset."
   ]
  },
  {
   "attachments": {},
   "cell_type": "markdown",
   "metadata": {},
   "source": [
    "# Persuasion\n",
    "\n",
    "One of our metrics will be focused around detecting persuasive language. This paper is useful for this: https://convokit.cornell.edu/documentation/persuasionforgood.html"
   ]
  },
  {
   "attachments": {},
   "cell_type": "markdown",
   "metadata": {},
   "source": [
    "## Sentiment Analysis"
   ]
  },
  {
   "attachments": {},
   "cell_type": "markdown",
   "metadata": {},
   "source": [
    "# Email Classification"
   ]
  },
  {
   "cell_type": "code",
   "execution_count": null,
   "metadata": {},
   "outputs": [],
   "source": [
    "from sklearn.linear_model import LogisticRegression\n",
    "from sklearn.model_selection import ShuffleSplit"
   ]
  },
  {
   "cell_type": "code",
   "execution_count": null,
   "metadata": {},
   "outputs": [],
   "source": [
    "X = d.pp_df.iloc[:, 0:2]\n",
    "y = d.pp_df.iloc[:, 2]\n",
    "\n",
    "ss = ShuffleSplit(n_splits=1, test_size=0.25, random_state=10)\n",
    "indexes = list(ss.split(X, y))\n",
    "train_set  = indexes[0][0]\n",
    "test_set  = indexes[0][1]\n",
    "Xtrain = X.iloc[train_set, :]\n",
    "ytrain = y.iloc[train_set]\n",
    "Xtest = X.iloc[test_set, :]\n",
    "ytest = y.iloc[test_set]"
   ]
  },
  {
   "cell_type": "code",
   "execution_count": null,
   "metadata": {},
   "outputs": [
    {
     "data": {
      "text/html": [
       "<div>\n",
       "<style scoped>\n",
       "    .dataframe tbody tr th:only-of-type {\n",
       "        vertical-align: middle;\n",
       "    }\n",
       "\n",
       "    .dataframe tbody tr th {\n",
       "        vertical-align: top;\n",
       "    }\n",
       "\n",
       "    .dataframe thead th {\n",
       "        text-align: right;\n",
       "    }\n",
       "</style>\n",
       "<table border=\"1\" class=\"dataframe\">\n",
       "  <thead>\n",
       "    <tr style=\"text-align: right;\">\n",
       "      <th></th>\n",
       "      <th>id</th>\n",
       "      <th>ppBody</th>\n",
       "      <th>label</th>\n",
       "    </tr>\n",
       "  </thead>\n",
       "  <tbody>\n",
       "    <tr>\n",
       "      <th>1.0</th>\n",
       "      <td>0.0</td>\n",
       "      <td>save up to 70 on life insurance why spend more...</td>\n",
       "      <td>1</td>\n",
       "    </tr>\n",
       "    <tr>\n",
       "      <th>2.0</th>\n",
       "      <td>1.0</td>\n",
       "      <td>1 fight the risk of cancer http www adclick ws...</td>\n",
       "      <td>1</td>\n",
       "    </tr>\n",
       "    <tr>\n",
       "      <th>3.0</th>\n",
       "      <td>2.0</td>\n",
       "      <td>1 fight the risk of cancer http www adclick ws...</td>\n",
       "      <td>1</td>\n",
       "    </tr>\n",
       "    <tr>\n",
       "      <th>4.0</th>\n",
       "      <td>3.0</td>\n",
       "      <td>adult club offers free membership instant acce...</td>\n",
       "      <td>1</td>\n",
       "    </tr>\n",
       "    <tr>\n",
       "      <th>5.0</th>\n",
       "      <td>4.0</td>\n",
       "      <td>i thought you might like these 1 slim down gua...</td>\n",
       "      <td>1</td>\n",
       "    </tr>\n",
       "    <tr>\n",
       "      <th>...</th>\n",
       "      <td>...</td>\n",
       "      <td>...</td>\n",
       "      <td>...</td>\n",
       "    </tr>\n",
       "    <tr>\n",
       "      <th>2601.0</th>\n",
       "      <td>2600.0</td>\n",
       "      <td>subject computationally intensive methods in q...</td>\n",
       "      <td>0</td>\n",
       "    </tr>\n",
       "    <tr>\n",
       "      <th>2602.0</th>\n",
       "      <td>2601.0</td>\n",
       "      <td>subject books a survey of american linguistics...</td>\n",
       "      <td>0</td>\n",
       "    </tr>\n",
       "    <tr>\n",
       "      <th>2603.0</th>\n",
       "      <td>2602.0</td>\n",
       "      <td>subject wecol 98 western conference on linguis...</td>\n",
       "      <td>0</td>\n",
       "    </tr>\n",
       "    <tr>\n",
       "      <th>2604.0</th>\n",
       "      <td>2603.0</td>\n",
       "      <td>subject euralex 98 revised programme euralex 9...</td>\n",
       "      <td>0</td>\n",
       "    </tr>\n",
       "    <tr>\n",
       "      <th>2605.0</th>\n",
       "      <td>2604.0</td>\n",
       "      <td>body label 0 subject great part time or summer...</td>\n",
       "      <td>0</td>\n",
       "    </tr>\n",
       "  </tbody>\n",
       "</table>\n",
       "<p>18651 rows × 3 columns</p>\n",
       "</div>"
      ],
      "text/plain": [
       "            id                                             ppBody label\n",
       "1.0        0.0  save up to 70 on life insurance why spend more...     1\n",
       "2.0        1.0  1 fight the risk of cancer http www adclick ws...     1\n",
       "3.0        2.0  1 fight the risk of cancer http www adclick ws...     1\n",
       "4.0        3.0  adult club offers free membership instant acce...     1\n",
       "5.0        4.0  i thought you might like these 1 slim down gua...     1\n",
       "...        ...                                                ...   ...\n",
       "2601.0  2600.0  subject computationally intensive methods in q...     0\n",
       "2602.0  2601.0  subject books a survey of american linguistics...     0\n",
       "2603.0  2602.0  subject wecol 98 western conference on linguis...     0\n",
       "2604.0  2603.0  subject euralex 98 revised programme euralex 9...     0\n",
       "2605.0  2604.0  body label 0 subject great part time or summer...     0\n",
       "\n",
       "[18651 rows x 3 columns]"
      ]
     },
     "execution_count": 44,
     "metadata": {},
     "output_type": "execute_result"
    }
   ],
   "source": [
    "d.pp_df"
   ]
  },
  {
   "cell_type": "code",
   "execution_count": null,
   "metadata": {},
   "outputs": [
    {
     "data": {
      "text/plain": [
       "1.0       True\n",
       "2.0       True\n",
       "3.0       True\n",
       "4.0       True\n",
       "5.0       True\n",
       "          ... \n",
       "2601.0    True\n",
       "2602.0    True\n",
       "2603.0    True\n",
       "2604.0    True\n",
       "2605.0    True\n",
       "Name: label, Length: 18651, dtype: bool"
      ]
     },
     "execution_count": 46,
     "metadata": {},
     "output_type": "execute_result"
    }
   ],
   "source": [
    "d.pp_df.iloc[:, -1] == y"
   ]
  },
  {
   "attachments": {},
   "cell_type": "markdown",
   "metadata": {},
   "source": [
    "## Word2Vec\n",
    "\n",
    "Classify with word2vec (see https://towardsdatascience.com/text-classification-with-nlp-tf-idf-vs-word2vec-vs-bert-41ff868d1794)"
   ]
  },
  {
   "attachments": {},
   "cell_type": "markdown",
   "metadata": {},
   "source": [
    "## BERT\n",
    "\n",
    "Classify with BERT (also using TDS article methods)"
   ]
  },
  {
   "attachments": {},
   "cell_type": "markdown",
   "metadata": {},
   "source": [
    "## Random Forest\n",
    "\n",
    "Use RF/ensemble method for some of the classifiers above to see which features work best and which preprocessing methods are good - exploring Phishing-Dataset-for-Machine-Learning features first may be helpful"
   ]
  },
  {
   "attachments": {},
   "cell_type": "markdown",
   "metadata": {},
   "source": [
    "# Phishing-Dataset-for-Machine-Learning\n",
    "\n",
    "Inspect this dataset - it is for webpages (https://www.sciencedirect.com/science/article/pii/S0020025519300763?via%3Dihub) but some of the features may be applicable to email classification\n",
    "\n",
    "Other repos that use this dataset to take inspiration from:\n",
    "- https://github.com/andpalmier/MLWithPhishing\n",
    "- https://github.com/rewanthtammana/Detect-phishing-websites-using-ML\n",
    "- https://www.kaggle.com/code/fadilparves/pishing-detection-using-machine-learning\n",
    "\n",
    "Random forests used to discover best features - we could apply similar to the Email-Spam-Dataset"
   ]
  },
  {
   "attachments": {},
   "cell_type": "markdown",
   "metadata": {},
   "source": [
    "## New Feature Extraction\n",
    "\n",
    "Can we apply the features used in this dataset to Email-Spam-Dataset?"
   ]
  },
  {
   "attachments": {},
   "cell_type": "markdown",
   "metadata": {},
   "source": [
    "# Transfer Learning\n",
    "\n",
    "Use a pretrained word representation and replace the classification layer, then fine-tune the model."
   ]
  },
  {
   "attachments": {},
   "cell_type": "markdown",
   "metadata": {},
   "source": [
    "# Comments\n",
    "\n"
   ]
  },
  {
   "attachments": {},
   "cell_type": "markdown",
   "metadata": {},
   "source": [
    "# Todo\n",
    "\n",
    "- [x] Remove NaN id from merged `dfSpam`\n",
    "- [ ] Tokenise body data\n",
    "- [ ] Set seed method\n",
    "- [ ] Stratified Sample?"
   ]
  }
 ],
 "metadata": {
  "kernelspec": {
   "display_name": "Python 3",
   "language": "python",
   "name": "python3"
  },
  "language_info": {
   "codemirror_mode": {
    "name": "ipython",
    "version": 3
   },
   "file_extension": ".py",
   "mimetype": "text/x-python",
   "name": "python",
   "nbconvert_exporter": "python",
   "pygments_lexer": "ipython3",
   "version": "3.8.10"
  },
  "orig_nbformat": 4,
  "vscode": {
   "interpreter": {
    "hash": "26de051ba29f2982a8de78e945f0abaf191376122a1563185a90213a26c5da77"
   }
  }
 },
 "nbformat": 4,
 "nbformat_minor": 2
}
